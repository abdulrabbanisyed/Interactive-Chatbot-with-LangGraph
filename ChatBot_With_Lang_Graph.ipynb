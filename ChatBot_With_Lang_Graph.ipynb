{
 "cells": [
  {
   "cell_type": "markdown",
   "metadata": {},
   "source": [
    "# Chat Bot with Lang Graph\n"
   ]
  },
  {
   "cell_type": "markdown",
   "metadata": {},
   "source": [
    "### Required packages and installations"
   ]
  },
  {
   "cell_type": "code",
   "execution_count": 1,
   "metadata": {},
   "outputs": [
    {
     "name": "stdout",
     "output_type": "stream",
     "text": [
      "Defaulting to user installation because normal site-packages is not writeable\n",
      "Requirement already satisfied: langgraph in /Users/abdulrabbani/Library/Python/3.9/lib/python/site-packages (0.2.10)\n",
      "Requirement already satisfied: langsmith in /Users/abdulrabbani/Library/Python/3.9/lib/python/site-packages (0.1.101)\n",
      "Requirement already satisfied: langchain-core<0.3,>=0.2.27 in /Users/abdulrabbani/Library/Python/3.9/lib/python/site-packages (from langgraph) (0.2.34)\n",
      "Requirement already satisfied: langgraph-checkpoint<2.0.0,>=1.0.2 in /Users/abdulrabbani/Library/Python/3.9/lib/python/site-packages (from langgraph) (1.0.3)\n",
      "Requirement already satisfied: httpx<1,>=0.23.0 in /Users/abdulrabbani/Library/Python/3.9/lib/python/site-packages (from langsmith) (0.27.0)\n",
      "Requirement already satisfied: orjson<4.0.0,>=3.9.14 in /Users/abdulrabbani/Library/Python/3.9/lib/python/site-packages (from langsmith) (3.10.7)\n",
      "Requirement already satisfied: pydantic<3,>=1 in /Users/abdulrabbani/Library/Python/3.9/lib/python/site-packages (from langsmith) (2.8.2)\n",
      "Requirement already satisfied: requests<3,>=2 in /Users/abdulrabbani/Library/Python/3.9/lib/python/site-packages (from langsmith) (2.32.3)\n",
      "Requirement already satisfied: anyio in /Users/abdulrabbani/Library/Python/3.9/lib/python/site-packages (from httpx<1,>=0.23.0->langsmith) (4.4.0)\n",
      "Requirement already satisfied: certifi in /Users/abdulrabbani/Library/Python/3.9/lib/python/site-packages (from httpx<1,>=0.23.0->langsmith) (2024.7.4)\n",
      "Requirement already satisfied: httpcore==1.* in /Users/abdulrabbani/Library/Python/3.9/lib/python/site-packages (from httpx<1,>=0.23.0->langsmith) (1.0.5)\n",
      "Requirement already satisfied: idna in /Users/abdulrabbani/Library/Python/3.9/lib/python/site-packages (from httpx<1,>=0.23.0->langsmith) (3.7)\n",
      "Requirement already satisfied: sniffio in /Users/abdulrabbani/Library/Python/3.9/lib/python/site-packages (from httpx<1,>=0.23.0->langsmith) (1.3.1)\n",
      "Requirement already satisfied: h11<0.15,>=0.13 in /Users/abdulrabbani/Library/Python/3.9/lib/python/site-packages (from httpcore==1.*->httpx<1,>=0.23.0->langsmith) (0.14.0)\n",
      "Requirement already satisfied: PyYAML>=5.3 in /Users/abdulrabbani/Library/Python/3.9/lib/python/site-packages (from langchain-core<0.3,>=0.2.27->langgraph) (6.0.2)\n",
      "Requirement already satisfied: jsonpatch<2.0,>=1.33 in /Users/abdulrabbani/Library/Python/3.9/lib/python/site-packages (from langchain-core<0.3,>=0.2.27->langgraph) (1.33)\n",
      "Requirement already satisfied: packaging<25,>=23.2 in /Users/abdulrabbani/Library/Python/3.9/lib/python/site-packages (from langchain-core<0.3,>=0.2.27->langgraph) (24.0)\n",
      "Requirement already satisfied: tenacity!=8.4.0,<9.0.0,>=8.1.0 in /Users/abdulrabbani/Library/Python/3.9/lib/python/site-packages (from langchain-core<0.3,>=0.2.27->langgraph) (8.3.0)\n",
      "Requirement already satisfied: typing-extensions>=4.7 in /Users/abdulrabbani/Library/Python/3.9/lib/python/site-packages (from langchain-core<0.3,>=0.2.27->langgraph) (4.11.0)\n",
      "Requirement already satisfied: annotated-types>=0.4.0 in /Users/abdulrabbani/Library/Python/3.9/lib/python/site-packages (from pydantic<3,>=1->langsmith) (0.7.0)\n",
      "Requirement already satisfied: pydantic-core==2.20.1 in /Users/abdulrabbani/Library/Python/3.9/lib/python/site-packages (from pydantic<3,>=1->langsmith) (2.20.1)\n",
      "Requirement already satisfied: charset-normalizer<4,>=2 in /Users/abdulrabbani/Library/Python/3.9/lib/python/site-packages (from requests<3,>=2->langsmith) (3.3.2)\n",
      "Requirement already satisfied: urllib3<3,>=1.21.1 in /Users/abdulrabbani/Library/Python/3.9/lib/python/site-packages (from requests<3,>=2->langsmith) (2.2.2)\n",
      "Requirement already satisfied: jsonpointer>=1.9 in /Users/abdulrabbani/Library/Python/3.9/lib/python/site-packages (from jsonpatch<2.0,>=1.33->langchain-core<0.3,>=0.2.27->langgraph) (3.0.0)\n",
      "Requirement already satisfied: exceptiongroup>=1.0.2 in /Users/abdulrabbani/Library/Python/3.9/lib/python/site-packages (from anyio->httpx<1,>=0.23.0->langsmith) (1.2.1)\n",
      "Defaulting to user installation because normal site-packages is not writeable\n",
      "Requirement already satisfied: pip in /Users/abdulrabbani/Library/Python/3.9/lib/python/site-packages (24.2)\n",
      "Defaulting to user installation because normal site-packages is not writeable\n",
      "Requirement already satisfied: langchain_groq in /Users/abdulrabbani/Library/Python/3.9/lib/python/site-packages (0.1.9)\n",
      "Requirement already satisfied: langchain_community in /Users/abdulrabbani/Library/Python/3.9/lib/python/site-packages (0.2.12)\n",
      "Requirement already satisfied: groq<1,>=0.4.1 in /Users/abdulrabbani/Library/Python/3.9/lib/python/site-packages (from langchain_groq) (0.9.0)\n",
      "Requirement already satisfied: langchain-core<0.3.0,>=0.2.26 in /Users/abdulrabbani/Library/Python/3.9/lib/python/site-packages (from langchain_groq) (0.2.34)\n",
      "Requirement already satisfied: PyYAML>=5.3 in /Users/abdulrabbani/Library/Python/3.9/lib/python/site-packages (from langchain_community) (6.0.2)\n",
      "Requirement already satisfied: SQLAlchemy<3,>=1.4 in /Users/abdulrabbani/Library/Python/3.9/lib/python/site-packages (from langchain_community) (2.0.32)\n",
      "Requirement already satisfied: aiohttp<4.0.0,>=3.8.3 in /Users/abdulrabbani/Library/Python/3.9/lib/python/site-packages (from langchain_community) (3.10.5)\n",
      "Requirement already satisfied: dataclasses-json<0.7,>=0.5.7 in /Users/abdulrabbani/Library/Python/3.9/lib/python/site-packages (from langchain_community) (0.6.7)\n",
      "Requirement already satisfied: langchain<0.3.0,>=0.2.13 in /Users/abdulrabbani/Library/Python/3.9/lib/python/site-packages (from langchain_community) (0.2.14)\n",
      "Requirement already satisfied: langsmith<0.2.0,>=0.1.0 in /Users/abdulrabbani/Library/Python/3.9/lib/python/site-packages (from langchain_community) (0.1.101)\n",
      "Requirement already satisfied: numpy<2,>=1 in /Users/abdulrabbani/Library/Python/3.9/lib/python/site-packages (from langchain_community) (1.26.4)\n",
      "Requirement already satisfied: requests<3,>=2 in /Users/abdulrabbani/Library/Python/3.9/lib/python/site-packages (from langchain_community) (2.32.3)\n",
      "Requirement already satisfied: tenacity!=8.4.0,<9.0.0,>=8.1.0 in /Users/abdulrabbani/Library/Python/3.9/lib/python/site-packages (from langchain_community) (8.3.0)\n",
      "Requirement already satisfied: aiohappyeyeballs>=2.3.0 in /Users/abdulrabbani/Library/Python/3.9/lib/python/site-packages (from aiohttp<4.0.0,>=3.8.3->langchain_community) (2.4.0)\n",
      "Requirement already satisfied: aiosignal>=1.1.2 in /Users/abdulrabbani/Library/Python/3.9/lib/python/site-packages (from aiohttp<4.0.0,>=3.8.3->langchain_community) (1.3.1)\n",
      "Requirement already satisfied: attrs>=17.3.0 in /Users/abdulrabbani/Library/Python/3.9/lib/python/site-packages (from aiohttp<4.0.0,>=3.8.3->langchain_community) (24.2.0)\n",
      "Requirement already satisfied: frozenlist>=1.1.1 in /Users/abdulrabbani/Library/Python/3.9/lib/python/site-packages (from aiohttp<4.0.0,>=3.8.3->langchain_community) (1.4.1)\n",
      "Requirement already satisfied: multidict<7.0,>=4.5 in /Users/abdulrabbani/Library/Python/3.9/lib/python/site-packages (from aiohttp<4.0.0,>=3.8.3->langchain_community) (6.0.5)\n",
      "Requirement already satisfied: yarl<2.0,>=1.0 in /Users/abdulrabbani/Library/Python/3.9/lib/python/site-packages (from aiohttp<4.0.0,>=3.8.3->langchain_community) (1.9.4)\n",
      "Requirement already satisfied: async-timeout<5.0,>=4.0 in /Users/abdulrabbani/Library/Python/3.9/lib/python/site-packages (from aiohttp<4.0.0,>=3.8.3->langchain_community) (4.0.3)\n",
      "Requirement already satisfied: marshmallow<4.0.0,>=3.18.0 in /Users/abdulrabbani/Library/Python/3.9/lib/python/site-packages (from dataclasses-json<0.7,>=0.5.7->langchain_community) (3.22.0)\n",
      "Requirement already satisfied: typing-inspect<1,>=0.4.0 in /Users/abdulrabbani/Library/Python/3.9/lib/python/site-packages (from dataclasses-json<0.7,>=0.5.7->langchain_community) (0.9.0)\n",
      "Requirement already satisfied: anyio<5,>=3.5.0 in /Users/abdulrabbani/Library/Python/3.9/lib/python/site-packages (from groq<1,>=0.4.1->langchain_groq) (4.4.0)\n",
      "Requirement already satisfied: distro<2,>=1.7.0 in /Users/abdulrabbani/Library/Python/3.9/lib/python/site-packages (from groq<1,>=0.4.1->langchain_groq) (1.9.0)\n",
      "Requirement already satisfied: httpx<1,>=0.23.0 in /Users/abdulrabbani/Library/Python/3.9/lib/python/site-packages (from groq<1,>=0.4.1->langchain_groq) (0.27.0)\n",
      "Requirement already satisfied: pydantic<3,>=1.9.0 in /Users/abdulrabbani/Library/Python/3.9/lib/python/site-packages (from groq<1,>=0.4.1->langchain_groq) (2.8.2)\n",
      "Requirement already satisfied: sniffio in /Users/abdulrabbani/Library/Python/3.9/lib/python/site-packages (from groq<1,>=0.4.1->langchain_groq) (1.3.1)\n",
      "Requirement already satisfied: typing-extensions<5,>=4.7 in /Users/abdulrabbani/Library/Python/3.9/lib/python/site-packages (from groq<1,>=0.4.1->langchain_groq) (4.11.0)\n",
      "Requirement already satisfied: langchain-text-splitters<0.3.0,>=0.2.0 in /Users/abdulrabbani/Library/Python/3.9/lib/python/site-packages (from langchain<0.3.0,>=0.2.13->langchain_community) (0.2.2)\n",
      "Requirement already satisfied: jsonpatch<2.0,>=1.33 in /Users/abdulrabbani/Library/Python/3.9/lib/python/site-packages (from langchain-core<0.3.0,>=0.2.26->langchain_groq) (1.33)\n",
      "Requirement already satisfied: packaging<25,>=23.2 in /Users/abdulrabbani/Library/Python/3.9/lib/python/site-packages (from langchain-core<0.3.0,>=0.2.26->langchain_groq) (24.0)\n",
      "Requirement already satisfied: orjson<4.0.0,>=3.9.14 in /Users/abdulrabbani/Library/Python/3.9/lib/python/site-packages (from langsmith<0.2.0,>=0.1.0->langchain_community) (3.10.7)\n",
      "Requirement already satisfied: charset-normalizer<4,>=2 in /Users/abdulrabbani/Library/Python/3.9/lib/python/site-packages (from requests<3,>=2->langchain_community) (3.3.2)\n",
      "Requirement already satisfied: idna<4,>=2.5 in /Users/abdulrabbani/Library/Python/3.9/lib/python/site-packages (from requests<3,>=2->langchain_community) (3.7)\n",
      "Requirement already satisfied: urllib3<3,>=1.21.1 in /Users/abdulrabbani/Library/Python/3.9/lib/python/site-packages (from requests<3,>=2->langchain_community) (2.2.2)\n",
      "Requirement already satisfied: certifi>=2017.4.17 in /Users/abdulrabbani/Library/Python/3.9/lib/python/site-packages (from requests<3,>=2->langchain_community) (2024.7.4)\n",
      "Requirement already satisfied: exceptiongroup>=1.0.2 in /Users/abdulrabbani/Library/Python/3.9/lib/python/site-packages (from anyio<5,>=3.5.0->groq<1,>=0.4.1->langchain_groq) (1.2.1)\n",
      "Requirement already satisfied: httpcore==1.* in /Users/abdulrabbani/Library/Python/3.9/lib/python/site-packages (from httpx<1,>=0.23.0->groq<1,>=0.4.1->langchain_groq) (1.0.5)\n",
      "Requirement already satisfied: h11<0.15,>=0.13 in /Users/abdulrabbani/Library/Python/3.9/lib/python/site-packages (from httpcore==1.*->httpx<1,>=0.23.0->groq<1,>=0.4.1->langchain_groq) (0.14.0)\n",
      "Requirement already satisfied: jsonpointer>=1.9 in /Users/abdulrabbani/Library/Python/3.9/lib/python/site-packages (from jsonpatch<2.0,>=1.33->langchain-core<0.3.0,>=0.2.26->langchain_groq) (3.0.0)\n",
      "Requirement already satisfied: annotated-types>=0.4.0 in /Users/abdulrabbani/Library/Python/3.9/lib/python/site-packages (from pydantic<3,>=1.9.0->groq<1,>=0.4.1->langchain_groq) (0.7.0)\n",
      "Requirement already satisfied: pydantic-core==2.20.1 in /Users/abdulrabbani/Library/Python/3.9/lib/python/site-packages (from pydantic<3,>=1.9.0->groq<1,>=0.4.1->langchain_groq) (2.20.1)\n",
      "Requirement already satisfied: mypy-extensions>=0.3.0 in /Users/abdulrabbani/Library/Python/3.9/lib/python/site-packages (from typing-inspect<1,>=0.4.0->dataclasses-json<0.7,>=0.5.7->langchain_community) (1.0.0)\n"
     ]
    }
   ],
   "source": [
    "!pip install langgraph langsmith\n",
    "!pip install --upgrade pip\n",
    "!pip install langchain_groq langchain_community"
   ]
  },
  {
   "cell_type": "markdown",
   "metadata": {},
   "source": [
    "### Creating the environment suited for your use case, here I used VS code locally, hence used this environemnt"
   ]
  },
  {
   "cell_type": "code",
   "execution_count": 2,
   "metadata": {},
   "outputs": [
    {
     "name": "stdout",
     "output_type": "stream",
     "text": [
      "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\n"
     ]
    }
   ],
   "source": [
    "# you can directly export the API key as an environment variable in your shell or notebook:\n",
    "# Store as an environment Variable\n",
    "# Best practice is always secure your api key using .env file\n",
    "\n",
    "# For groq and groq cloud where open source llm is accessed\n",
    "import os\n",
    "\n",
    "os.environ['Api_Key'] = 'your api key'\n",
    "\n",
    "API_KEY = os.getenv('Api_Key')\n",
    "print(API_KEY)\n",
    "\n",
    "# For langchain api key, the environment is set from here\n",
    "\n",
    "os.environ['Lang_Smith_API_Key'] = 'your api key'\n",
    "\n",
    "LangSmith_Api_key = os.getenv('Lang_Smith_API_Key')\n",
    "\n",
    "# Creating the environment and connection and tracing and project name\n",
    "os.environ['LANGCHAIN_API_KEY'] = LangSmith_Api_key\n",
    "os.environ['LANGCHAIN_TRACING_V2'] = 'True'\n",
    "os.environ['LANGCHAIN_PROJECT'] = 'CHATBOT'"
   ]
  },
  {
   "cell_type": "markdown",
   "metadata": {},
   "source": [
    "### Importing neccessary libraries "
   ]
  },
  {
   "cell_type": "code",
   "execution_count": 3,
   "metadata": {},
   "outputs": [
    {
     "name": "stderr",
     "output_type": "stream",
     "text": [
      "/Users/abdulrabbani/Library/Python/3.9/lib/python/site-packages/urllib3/__init__.py:35: NotOpenSSLWarning: urllib3 v2 only supports OpenSSL 1.1.1+, currently the 'ssl' module is compiled with 'LibreSSL 2.8.3'. See: https://github.com/urllib3/urllib3/issues/3020\n",
      "  warnings.warn(\n"
     ]
    }
   ],
   "source": [
    "from langchain_groq import ChatGroq\n",
    "from typing import Annotated\n",
    "from typing_extensions import TypedDict\n",
    "from langgraph.graph import StateGraph, START, END\n",
    "from langgraph.graph.message import add_messages"
   ]
  },
  {
   "cell_type": "markdown",
   "metadata": {},
   "source": [
    "### Using the chatGroq library employing the API key and LLM Model Gemma2-9b-It, you can use which model suits better for your use case"
   ]
  },
  {
   "cell_type": "code",
   "execution_count": 4,
   "metadata": {},
   "outputs": [
    {
     "data": {
      "text/plain": [
       "ChatGroq(client=<groq.resources.chat.completions.Completions object at 0x10bcad460>, async_client=<groq.resources.chat.completions.AsyncCompletions object at 0x10bca1730>, model_name='Gemma2-9b-It', groq_api_key=SecretStr('**********'))"
      ]
     },
     "execution_count": 4,
     "metadata": {},
     "output_type": "execute_result"
    }
   ],
   "source": [
    "llm = ChatGroq(groq_api_key = API_KEY, model_name='Gemma2-9b-It')\n",
    "llm"
   ]
  },
  {
   "cell_type": "markdown",
   "metadata": {},
   "source": [
    "### Stategraph initialisation, managing the graph state"
   ]
  },
  {
   "cell_type": "code",
   "execution_count": 5,
   "metadata": {},
   "outputs": [
    {
     "data": {
      "text/plain": [
       "<langgraph.graph.state.StateGraph at 0x10bca11c0>"
      ]
     },
     "execution_count": 5,
     "metadata": {},
     "output_type": "execute_result"
    }
   ],
   "source": [
    "#TypeDict is the collection of langchain messages the class defines the structure of our graph\n",
    "class State(TypedDict):\n",
    "    messages:Annotated[list, add_messages]\n",
    "\n",
    "graph_builder = StateGraph(State)\n",
    "graph_builder"
   ]
  },
  {
   "cell_type": "markdown",
   "metadata": {},
   "source": [
    "### Chatbot "
   ]
  },
  {
   "cell_type": "code",
   "execution_count": 6,
   "metadata": {},
   "outputs": [],
   "source": [
    "def chatbot(state: State):\n",
    "    return {\"messages\": llm.invoke(state['messages'])}\n",
    "\n",
    "#This is our graph state and architecture of Langgraph\n",
    "\n",
    "graph_builder.add_node('chatbot', chatbot)\n",
    "graph_builder.add_edge(START, 'chatbot')\n",
    "graph_builder.add_edge('chatbot', END)\n",
    "graph = graph_builder.compile()"
   ]
  },
  {
   "cell_type": "markdown",
   "metadata": {},
   "source": [
    "### Langgraph Architecture and its design"
   ]
  },
  {
   "cell_type": "code",
   "execution_count": 7,
   "metadata": {},
   "outputs": [
    {
     "data": {
      "image/jpeg": "[encoded data removed]",
      "text/plain": [
       "<IPython.core.display.Image object>"
      ]
     },
     "metadata": {},
     "output_type": "display_data"
    }
   ],
   "source": [
    "from IPython.display import Image, display\n",
    "try:\n",
    "    display(Image(graph.get_graph().draw_mermaid_png()))\n",
    "except Exception:\n",
    "    pass"
   ]
  },
  {
   "cell_type": "markdown",
   "metadata": {},
   "source": [
    "### Chatbot functionality"
   ]
  },
  {
   "cell_type": "code",
   "execution_count": 8,
   "metadata": {},
   "outputs": [
    {
     "name": "stdout",
     "output_type": "stream",
     "text": [
      "Event: {'chatbot': {'messages': AIMessage(content=\"Generative AI is a fascinating branch of artificial intelligence that focuses on creating new content. \\n\\nThink of it like this: instead of simply analyzing existing data, generative AI learns the underlying patterns and structures within that data, then uses that knowledge to generate entirely new pieces of content. \\n\\nHere's a breakdown:\\n\\n**What it does:**\\n\\n* **Creates text:** Write stories, poems, articles, dialogue, and even code.\\n* **Generates images:** Produce realistic photographs, paintings, illustrations, and designs.\\n* **Composes music:** Craft original melodies, harmonies, and even entire musical pieces.\\n* **Produces videos:**  Synthesize short clips, animations, or even longer video sequences.\\n* **Designs 3D models:**  Create realistic or abstract 3D objects for various purposes.\\n\\n**How it works:**\\n\\nGenerative AI models are typically trained on massive datasets of existing content. They learn the statistical relationships between different elements within that data.  Popular techniques include:\\n\\n* **Generative Adversarial Networks (GANs):**  Two AI models, a generator and a discriminator, compete against each other. The generator tries to create realistic content, while the discriminator tries to distinguish real content from generated content. This back-and-forth process leads to increasingly sophisticated generation.\\n* **Transformer Networks:**  Excellent at understanding and generating text, these models learn the context and relationships between words in a sentence, allowing for more coherent and human-like text generation.\\n\\n**Examples:**\\n\\n* **ChatGPT:**  A text-based AI that can engage in conversations, answer questions, and generate creative text formats.\\n* **DALL-E 2:**  An AI that creates realistic images from text descriptions.\\n* **Jukebox:**  An AI that generates music in various styles.\\n\\n**Potential applications:**\\n\\nGenerative AI has the potential to revolutionize many fields:\\n\\n* **Creative industries:**  Assist writers, artists, and musicians in their creative processes.\\n* **Marketing and advertising:**  Generate personalized content and ad campaigns.\\n* **Education:**  Create interactive learning experiences and personalized tutoring.\\n* **Healthcare:**  Generate synthetic medical images for training and research.\\n* **Entertainment:**  Develop immersive gaming experiences, generate realistic special effects, and create new forms of storytelling.\\n\\n**Ethical considerations:**\\n\\nAs with any powerful technology, generative AI raises ethical concerns:\\n\\n* **Misinformation and deepfakes:**  The ability to create realistic fake content can be used for malicious purposes.\\n* **Copyright and ownership:**  Who owns the copyright to AI-generated content?\\n* **Bias and fairness:**  AI models can inherit and amplify biases present in the training data.\\n\\n\\n\\nGenerative AI is a rapidly evolving field with immense potential to transform our world. Understanding its capabilities and limitations is crucial as we navigate its ethical implications and explore its vast applications.\\n\", response_metadata={'token_usage': {'completion_tokens': 600, 'prompt_tokens': 18, 'total_tokens': 618, 'completion_time': 1.248205153, 'prompt_time': 0.002325858, 'queue_time': None, 'total_time': 1.250531011}, 'model_name': 'Gemma2-9b-It', 'system_fingerprint': 'fp_10c08bf97d', 'finish_reason': 'stop', 'logprobs': None}, id='run-fc36e916-f69f-4b7e-92bc-f209930b0b2c-0', usage_metadata={'input_tokens': 18, 'output_tokens': 600, 'total_tokens': 618})}}\n",
      "Value: {'messages': AIMessage(content=\"Generative AI is a fascinating branch of artificial intelligence that focuses on creating new content. \\n\\nThink of it like this: instead of simply analyzing existing data, generative AI learns the underlying patterns and structures within that data, then uses that knowledge to generate entirely new pieces of content. \\n\\nHere's a breakdown:\\n\\n**What it does:**\\n\\n* **Creates text:** Write stories, poems, articles, dialogue, and even code.\\n* **Generates images:** Produce realistic photographs, paintings, illustrations, and designs.\\n* **Composes music:** Craft original melodies, harmonies, and even entire musical pieces.\\n* **Produces videos:**  Synthesize short clips, animations, or even longer video sequences.\\n* **Designs 3D models:**  Create realistic or abstract 3D objects for various purposes.\\n\\n**How it works:**\\n\\nGenerative AI models are typically trained on massive datasets of existing content. They learn the statistical relationships between different elements within that data.  Popular techniques include:\\n\\n* **Generative Adversarial Networks (GANs):**  Two AI models, a generator and a discriminator, compete against each other. The generator tries to create realistic content, while the discriminator tries to distinguish real content from generated content. This back-and-forth process leads to increasingly sophisticated generation.\\n* **Transformer Networks:**  Excellent at understanding and generating text, these models learn the context and relationships between words in a sentence, allowing for more coherent and human-like text generation.\\n\\n**Examples:**\\n\\n* **ChatGPT:**  A text-based AI that can engage in conversations, answer questions, and generate creative text formats.\\n* **DALL-E 2:**  An AI that creates realistic images from text descriptions.\\n* **Jukebox:**  An AI that generates music in various styles.\\n\\n**Potential applications:**\\n\\nGenerative AI has the potential to revolutionize many fields:\\n\\n* **Creative industries:**  Assist writers, artists, and musicians in their creative processes.\\n* **Marketing and advertising:**  Generate personalized content and ad campaigns.\\n* **Education:**  Create interactive learning experiences and personalized tutoring.\\n* **Healthcare:**  Generate synthetic medical images for training and research.\\n* **Entertainment:**  Develop immersive gaming experiences, generate realistic special effects, and create new forms of storytelling.\\n\\n**Ethical considerations:**\\n\\nAs with any powerful technology, generative AI raises ethical concerns:\\n\\n* **Misinformation and deepfakes:**  The ability to create realistic fake content can be used for malicious purposes.\\n* **Copyright and ownership:**  Who owns the copyright to AI-generated content?\\n* **Bias and fairness:**  AI models can inherit and amplify biases present in the training data.\\n\\n\\n\\nGenerative AI is a rapidly evolving field with immense potential to transform our world. Understanding its capabilities and limitations is crucial as we navigate its ethical implications and explore its vast applications.\\n\", response_metadata={'token_usage': {'completion_tokens': 600, 'prompt_tokens': 18, 'total_tokens': 618, 'completion_time': 1.248205153, 'prompt_time': 0.002325858, 'queue_time': None, 'total_time': 1.250531011}, 'model_name': 'Gemma2-9b-It', 'system_fingerprint': 'fp_10c08bf97d', 'finish_reason': 'stop', 'logprobs': None}, id='run-fc36e916-f69f-4b7e-92bc-f209930b0b2c-0', usage_metadata={'input_tokens': 18, 'output_tokens': 600, 'total_tokens': 618})}\n",
      "Assistant: Generative AI is a fascinating branch of artificial intelligence that focuses on creating new content. \n",
      "\n",
      "Think of it like this: instead of simply analyzing existing data, generative AI learns the underlying patterns and structures within that data, then uses that knowledge to generate entirely new pieces of content. \n",
      "\n",
      "Here's a breakdown:\n",
      "\n",
      "**What it does:**\n",
      "\n",
      "* **Creates text:** Write stories, poems, articles, dialogue, and even code.\n",
      "* **Generates images:** Produce realistic photographs, paintings, illustrations, and designs.\n",
      "* **Composes music:** Craft original melodies, harmonies, and even entire musical pieces.\n",
      "* **Produces videos:**  Synthesize short clips, animations, or even longer video sequences.\n",
      "* **Designs 3D models:**  Create realistic or abstract 3D objects for various purposes.\n",
      "\n",
      "**How it works:**\n",
      "\n",
      "Generative AI models are typically trained on massive datasets of existing content. They learn the statistical relationships between different elements within that data.  Popular techniques include:\n",
      "\n",
      "* **Generative Adversarial Networks (GANs):**  Two AI models, a generator and a discriminator, compete against each other. The generator tries to create realistic content, while the discriminator tries to distinguish real content from generated content. This back-and-forth process leads to increasingly sophisticated generation.\n",
      "* **Transformer Networks:**  Excellent at understanding and generating text, these models learn the context and relationships between words in a sentence, allowing for more coherent and human-like text generation.\n",
      "\n",
      "**Examples:**\n",
      "\n",
      "* **ChatGPT:**  A text-based AI that can engage in conversations, answer questions, and generate creative text formats.\n",
      "* **DALL-E 2:**  An AI that creates realistic images from text descriptions.\n",
      "* **Jukebox:**  An AI that generates music in various styles.\n",
      "\n",
      "**Potential applications:**\n",
      "\n",
      "Generative AI has the potential to revolutionize many fields:\n",
      "\n",
      "* **Creative industries:**  Assist writers, artists, and musicians in their creative processes.\n",
      "* **Marketing and advertising:**  Generate personalized content and ad campaigns.\n",
      "* **Education:**  Create interactive learning experiences and personalized tutoring.\n",
      "* **Healthcare:**  Generate synthetic medical images for training and research.\n",
      "* **Entertainment:**  Develop immersive gaming experiences, generate realistic special effects, and create new forms of storytelling.\n",
      "\n",
      "**Ethical considerations:**\n",
      "\n",
      "As with any powerful technology, generative AI raises ethical concerns:\n",
      "\n",
      "* **Misinformation and deepfakes:**  The ability to create realistic fake content can be used for malicious purposes.\n",
      "* **Copyright and ownership:**  Who owns the copyright to AI-generated content?\n",
      "* **Bias and fairness:**  AI models can inherit and amplify biases present in the training data.\n",
      "\n",
      "\n",
      "\n",
      "Generative AI is a rapidly evolving field with immense potential to transform our world. Understanding its capabilities and limitations is crucial as we navigate its ethical implications and explore its vast applications.\n",
      "\n",
      "Thank you and Closing the chat\n"
     ]
    }
   ],
   "source": [
    "while True:\n",
    "    user_data = input(\"User_Input: \")\n",
    "    \n",
    "    if user_data.lower() in ['quit', 'q']:\n",
    "        print(\"Thank you and Closing the chat\")\n",
    "        break\n",
    "\n",
    "    try:\n",
    "        # Debugging: Print each event to understand its structure\n",
    "        for event in graph.stream({'messages': (\"user\", user_data)}):\n",
    "            print(\"Event:\", event)  # Inspect the event object\n",
    "\n",
    "            for value in event.values():\n",
    "                print(\"Value:\", value)  # Inspect each value\n",
    "\n",
    "                # Check if the key 'messages' exists in the value\n",
    "                if 'messages' in value:\n",
    "                    print(\"Assistant:\", value['messages'].content)\n",
    "                else:\n",
    "                    print(\"Error: 'messages' key not found in value\")\n",
    "    \n",
    "    except ValueError as ve:\n",
    "        print(f\"ValueError occurred: {ve}\")  # Show the actual error message\n",
    "    except Exception as e:\n",
    "        print(f\"An unexpected error occurred: {e}\")\n"
   ]
  }
 ],
 "metadata": {
  "kernelspec": {
   "display_name": "Python 3",
   "language": "python",
   "name": "python3"
  },
  "language_info": {
   "codemirror_mode": {
    "name": "ipython",
    "version": 3
   },
   "file_extension": ".py",
   "mimetype": "text/x-python",
   "name": "python",
   "nbconvert_exporter": "python",
   "pygments_lexer": "ipython3",
   "version": "3.9.6"
  }
 },
 "nbformat": 4,
 "nbformat_minor": 2
}
